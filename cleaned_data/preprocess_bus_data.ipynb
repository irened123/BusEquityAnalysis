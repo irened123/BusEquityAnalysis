{
  "cells": [
    {
      "cell_type": "code",
      "execution_count": null,
      "metadata": {
        "colab": {
          "base_uri": "https://localhost:8080/"
        },
        "id": "bfSmGs6TgJeI",
        "outputId": "5d10325c-c74b-46c6-c9c3-372a3a5d0527"
      },
      "outputs": [
        {
          "name": "stdout",
          "output_type": "stream",
          "text": [
            "Uploaded Files: ['MBTA_Monthly_Ridership_By_Mode_(archive).csv', 'MBTA_Monthly_Ridership_By_Mode_and_Line.csv']\n",
            "2017 Data Preview:\n",
            "             service_date   mode route_or_line  \\\n",
            "0  2017/04/01 04:00:00+00   Rail     Blue Line   \n",
            "1  2017/04/01 04:00:00+00  Ferry       Boat-F1   \n",
            "2  2017/04/01 04:00:00+00  Ferry       Boat-F3   \n",
            "3  2017/04/01 04:00:00+00  Ferry       Boat-F4   \n",
            "4  2017/04/01 04:00:00+00    Bus           Bus   \n",
            "\n",
            "   total_monthly_weekday_ridership  average_monthly_weekday_ridersh  \\\n",
            "0                          1342105                            67105   \n",
            "1                            61364                             3068   \n",
            "2                            19804                              990   \n",
            "3                            18395                              920   \n",
            "4                          6911721                           345586   \n",
            "\n",
            "   countofdates_weekday  total_monthly_ridership  average_monthly_ridership  \\\n",
            "0                    20                1727232.0                    57574.0   \n",
            "1                    20                      NaN                        NaN   \n",
            "2                    20                      NaN                        NaN   \n",
            "3                    20                      NaN                        NaN   \n",
            "4                    20                8098478.0                   269949.0   \n",
            "\n",
            "   countofdates  ObjectId  \n",
            "0            30         1  \n",
            "1            30         2  \n",
            "2            30         3  \n",
            "3            30         4  \n",
            "4            30         5  \n",
            "\n",
            "2024 Data Preview:\n",
            "         month_of_service  daytype  daycount route_or_line  ridership_total  \\\n",
            "0  2024/12/01 05:00:00+00  Weekday        21     Blue Line           905115   \n",
            "1  2024/12/01 05:00:00+00  Weekday        21   Orange Line          2208993   \n",
            "2  2024/12/01 05:00:00+00  Weekday        21      Red Line          2367621   \n",
            "3  2024/12/01 05:00:00+00  Weekday        21    Heavy Rail          5481728   \n",
            "4  2024/12/01 05:00:00+00  Weekday        21    Green Line          1670698   \n",
            "\n",
            "   ridership_average  ObjectId  \n",
            "0              43101         1  \n",
            "1             105190         2  \n",
            "2             112744         3  \n",
            "3             261035         4  \n",
            "4              79557         5  \n"
          ]
        }
      ],
      "source": [
        "import pandas as pd\n",
        "\n",
        "# List uploaded files\n",
        "uploaded_files = list(uploaded.keys())\n",
        "print(\"Uploaded Files:\", uploaded_files)\n",
        "\n",
        "# Load datasets into Pandas DataFrames\n",
        "df_2017 = pd.read_csv(uploaded_files[0])  # Replace with actual filename if needed\n",
        "df_2024 = pd.read_csv(uploaded_files[1])  # Replace with actual filename if needed\n",
        "\n",
        "# Display first few rows\n",
        "print(\"2017 Data Preview:\")\n",
        "print(df_2017.head())\n",
        "\n",
        "print(\"\\n2024 Data Preview:\")\n",
        "print(df_2024.head())"
      ]
    },
    {
      "cell_type": "code",
      "execution_count": null,
      "metadata": {
        "colab": {
          "base_uri": "https://localhost:8080/"
        },
        "id": "mn6NY-iXgQ07",
        "outputId": "f0a038a8-3de9-40ec-a524-cca9ba917bfb"
      },
      "outputs": [
        {
          "name": "stdout",
          "output_type": "stream",
          "text": [
            "2017 Columns: Index(['service_date', 'mode', 'route_or_line',\n",
            "       'total_monthly_weekday_ridership', 'average_monthly_weekday_ridersh',\n",
            "       'countofdates_weekday', 'total_monthly_ridership',\n",
            "       'average_monthly_ridership', 'countofdates', 'ObjectId'],\n",
            "      dtype='object')\n",
            "2024 Columns: Index(['month_of_service', 'daytype', 'daycount', 'route_or_line',\n",
            "       'ridership_total', 'ridership_average', 'ObjectId'],\n",
            "      dtype='object')\n",
            "Missing values in 2017 dataset:\n",
            " service_date                        0\n",
            "mode                                0\n",
            "route_or_line                       0\n",
            "total_monthly_weekday_ridership     0\n",
            "average_monthly_weekday_ridersh     0\n",
            "countofdates_weekday                0\n",
            "total_monthly_ridership            90\n",
            "average_monthly_ridership          90\n",
            "countofdates                        0\n",
            "ObjectId                            0\n",
            "dtype: int64\n",
            "Missing values in 2024 dataset:\n",
            " month_of_service     0\n",
            "daytype              0\n",
            "daycount             0\n",
            "route_or_line        0\n",
            "ridership_total      0\n",
            "ridership_average    0\n",
            "ObjectId             0\n",
            "dtype: int64\n",
            "2017 Data Types:\n",
            " service_date                        object\n",
            "mode                                object\n",
            "route_or_line                       object\n",
            "total_monthly_weekday_ridership      int64\n",
            "average_monthly_weekday_ridersh      int64\n",
            "countofdates_weekday                 int64\n",
            "total_monthly_ridership            float64\n",
            "average_monthly_ridership          float64\n",
            "countofdates                         int64\n",
            "ObjectId                             int64\n",
            "dtype: object\n",
            "2024 Data Types:\n",
            " month_of_service     object\n",
            "daytype              object\n",
            "daycount              int64\n",
            "route_or_line        object\n",
            "ridership_total       int64\n",
            "ridership_average     int64\n",
            "ObjectId              int64\n",
            "dtype: object\n"
          ]
        }
      ],
      "source": [
        "# Check column names\n",
        "print(\"2017 Columns:\", df_2017.columns)\n",
        "print(\"2024 Columns:\", df_2024.columns)\n",
        "\n",
        "# Check for missing values\n",
        "print(\"Missing values in 2017 dataset:\\n\", df_2017.isnull().sum())\n",
        "print(\"Missing values in 2024 dataset:\\n\", df_2024.isnull().sum())\n",
        "\n",
        "# Check data types\n",
        "print(\"2017 Data Types:\\n\", df_2017.dtypes)\n",
        "print(\"2024 Data Types:\\n\", df_2024.dtypes)"
      ]
    },
    {
      "cell_type": "code",
      "execution_count": null,
      "metadata": {
        "colab": {
          "base_uri": "https://localhost:8080/",
          "height": 144
        },
        "id": "JmDtvtXEsTpz",
        "outputId": "7bb6b994-315a-4fde-b2f6-af8390384e84"
      },
      "outputs": [
        {
          "name": "stderr",
          "output_type": "stream",
          "text": [
            "<ipython-input-4-15143f71ceb2>:5: SettingWithCopyWarning: \n",
            "A value is trying to be set on a copy of a slice from a DataFrame.\n",
            "Try using .loc[row_indexer,col_indexer] = value instead\n",
            "\n",
            "See the caveats in the documentation: https://pandas.pydata.org/pandas-docs/stable/user_guide/indexing.html#returning-a-view-versus-a-copy\n",
            "  df_2017_2018_bus['service_date'] = pd.to_datetime(df_2017_2018_bus['service_date'])\n"
          ]
        },
        {
          "data": {
            "application/javascript": "\n    async function download(id, filename, size) {\n      if (!google.colab.kernel.accessAllowed) {\n        return;\n      }\n      const div = document.createElement('div');\n      const label = document.createElement('label');\n      label.textContent = `Downloading \"${filename}\": `;\n      div.appendChild(label);\n      const progress = document.createElement('progress');\n      progress.max = size;\n      div.appendChild(progress);\n      document.body.appendChild(div);\n\n      const buffers = [];\n      let downloaded = 0;\n\n      const channel = await google.colab.kernel.comms.open(id);\n      // Send a message to notify the kernel that we're ready.\n      channel.send({})\n\n      for await (const message of channel.messages) {\n        // Send a message to notify the kernel that we're ready.\n        channel.send({})\n        if (message.buffers) {\n          for (const buffer of message.buffers) {\n            buffers.push(buffer);\n            downloaded += buffer.byteLength;\n            progress.value = downloaded;\n          }\n        }\n      }\n      const blob = new Blob(buffers, {type: 'application/binary'});\n      const a = document.createElement('a');\n      a.href = window.URL.createObjectURL(blob);\n      a.download = filename;\n      div.appendChild(a);\n      a.click();\n      div.remove();\n    }\n  ",
            "text/plain": [
              "<IPython.core.display.Javascript object>"
            ]
          },
          "metadata": {},
          "output_type": "display_data"
        },
        {
          "data": {
            "application/javascript": "download(\"download_55117872-e2bb-4670-8c6e-e60b28ef41b0\", \"2017_2018_bus_only.csv\", 3058)",
            "text/plain": [
              "<IPython.core.display.Javascript object>"
            ]
          },
          "metadata": {},
          "output_type": "display_data"
        }
      ],
      "source": [
        "# Filter for mode == 'Bus'\n",
        "df_2017_2018_bus = df_2017[df_2017['mode'] == 'Bus']\n",
        "\n",
        "# Convert service_date to datetime\n",
        "df_2017_2018_bus['service_date'] = pd.to_datetime(df_2017_2018_bus['service_date'])\n",
        "\n",
        "# Keep only rows from 2017 and 2018\n",
        "df_2017_2018_bus = df_2017_2018_bus[df_2017_2018_bus['service_date'].dt.year.isin([2017, 2018])]\n",
        "\n",
        "# Sort by route_or_line with 'Bus' first, then 'Silver Line'\n",
        "df_2017_2018_bus['route_or_line'] = df_2017_2018_bus['route_or_line'].astype(str)  # just in case\n",
        "sort_order = ['Bus', 'Silver Line']\n",
        "df_2017_2018_bus['sort_order'] = df_2017_2018_bus['route_or_line'].apply(\n",
        "    lambda x: sort_order.index(x) if x in sort_order else len(sort_order)\n",
        ")\n",
        "df_2017_2018_bus = df_2017_2018_bus.sort_values(by='sort_order').drop(columns='sort_order')\n",
        "\n",
        "df_2017_2018_bus.to_csv('2017_2018_bus_only.csv', index=False)\n",
        "\n",
        "files.download('2017_2018_bus_only.csv')"
      ]
    },
    {
      "cell_type": "code",
      "execution_count": null,
      "metadata": {
        "colab": {
          "base_uri": "https://localhost:8080/",
          "height": 17
        },
        "id": "1l4Z4tAzxHx0",
        "outputId": "c8c5bc88-4f33-4ef1-957f-3c3eaf4e94c8"
      },
      "outputs": [
        {
          "data": {
            "application/javascript": "\n    async function download(id, filename, size) {\n      if (!google.colab.kernel.accessAllowed) {\n        return;\n      }\n      const div = document.createElement('div');\n      const label = document.createElement('label');\n      label.textContent = `Downloading \"${filename}\": `;\n      div.appendChild(label);\n      const progress = document.createElement('progress');\n      progress.max = size;\n      div.appendChild(progress);\n      document.body.appendChild(div);\n\n      const buffers = [];\n      let downloaded = 0;\n\n      const channel = await google.colab.kernel.comms.open(id);\n      // Send a message to notify the kernel that we're ready.\n      channel.send({})\n\n      for await (const message of channel.messages) {\n        // Send a message to notify the kernel that we're ready.\n        channel.send({})\n        if (message.buffers) {\n          for (const buffer of message.buffers) {\n            buffers.push(buffer);\n            downloaded += buffer.byteLength;\n            progress.value = downloaded;\n          }\n        }\n      }\n      const blob = new Blob(buffers, {type: 'application/binary'});\n      const a = document.createElement('a');\n      a.href = window.URL.createObjectURL(blob);\n      a.download = filename;\n      div.appendChild(a);\n      a.click();\n      div.remove();\n    }\n  ",
            "text/plain": [
              "<IPython.core.display.Javascript object>"
            ]
          },
          "metadata": {},
          "output_type": "display_data"
        },
        {
          "data": {
            "application/javascript": "download(\"download_a969fcdc-8512-4afb-9d59-ccb0bab8df01\", \"2024_filtered_bus_data.csv\", 19658)",
            "text/plain": [
              "<IPython.core.display.Javascript object>"
            ]
          },
          "metadata": {},
          "output_type": "display_data"
        }
      ],
      "source": [
        "# Filter for Bus and Silver Line only\n",
        "df_2018_2024_filtered = df_2018_2024[\n",
        "    (df_2024['route_or_line'].isin(['Bus', 'Silver Line'])) &\n",
        "    (df_2024['daytype'].isin(['Weekday', 'Total']))\n",
        "].copy()\n",
        "\n",
        "df_2018_2024_filtered['month_of_service'] = pd.to_datetime(df_2024_filtered['month_of_service'])\n",
        "\n",
        "daytype_order = ['Total', 'Weekday']\n",
        "route_order = ['Silver Line', 'Bus']\n",
        "\n",
        "df_2024_filtered['daytype_sort'] = df_2024_filtered['daytype'].apply(lambda x: daytype_order.index(x))\n",
        "df_2024_filtered['route_sort'] = df_2024_filtered['route_or_line'].apply(lambda x: route_order.index(x))\n",
        "\n",
        "df_2024_filtered = df_2024_filtered.sort_values(by=['daytype_sort', 'route_sort'])\n",
        "\n",
        "df_2024_filtered.drop(columns=['daytype_sort', 'route_sort'], inplace=True)\n",
        "\n",
        "df_2024_filtered.to_csv('2024_filtered_bus_data.csv', index=False)\n",
        "files.download('2024_filtered_bus_data.csv')\n"
      ]
    }
  ],
  "metadata": {
    "colab": {
      "provenance": []
    },
    "kernelspec": {
      "display_name": "Python 3",
      "name": "python3"
    },
    "language_info": {
      "codemirror_mode": {
        "name": "ipython",
        "version": 3
      },
      "file_extension": ".py",
      "mimetype": "text/x-python",
      "name": "python",
      "nbconvert_exporter": "python",
      "pygments_lexer": "ipython3",
      "version": "3.12.1"
    }
  },
  "nbformat": 4,
  "nbformat_minor": 0
}
